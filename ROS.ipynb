{
 "cells": [
  {
   "cell_type": "markdown",
   "metadata": {},
   "source": [
    "# ROS Multiclass\n",
    "### (Random Over-Sampling) - Duplica aleatoriamente muestras de la clase minoritaria, hasta compensar el desequilibrio de las clases."
   ]
  },
  {
   "cell_type": "markdown",
   "metadata": {},
   "source": [
    "### Importar las librerías a utilizar"
   ]
  },
  {
   "cell_type": "code",
   "execution_count": 1,
   "metadata": {},
   "outputs": [],
   "source": [
    "import findspark\n",
    "findspark.init()\n",
    "import numpy as np\n",
    "from pyspark.sql import SparkSession\n",
    "from pyspark import SparkContext, SparkConf\n",
    "\n",
    "conf = (SparkConf()\n",
    "        .setAppName(\"ROS\") \\\n",
    "        .set('spark.driver.cores', '6') \\\n",
    "        .set('spark.executor.cores', '6') \\\n",
    "        .set('spark.driver.memory', '6G') \\\n",
    "        .set('spark.sql.autoBroadcastJoinThreshold', '-1') \\\n",
    "        .set('spark.executor.memory', '6G'))\n",
    "sc = SparkContext(conf=conf)"
   ]
  },
  {
   "cell_type": "code",
   "execution_count": 2,
   "metadata": {},
   "outputs": [],
   "source": [
    "spark = SparkSession.builder.getOrCreate()"
   ]
  },
  {
   "cell_type": "markdown",
   "metadata": {},
   "source": [
    "## Cargar los datos\n",
    "\n",
    "El formato de datos debe ser el siguiente:\n",
    "\n",
    "\n",
    "&nbsp; \n",
    "class column1 column2 column3 column4 ...... column_n \n",
    "\n",
    "\n",
    "&nbsp;\n",
    "class column1 column2 column3 column4 ...... column_n \n",
    "\n",
    "\n",
    "&nbsp;\n",
    "..       ..         ..        ..         ..          ..          .. \n",
    " \n",
    "\n",
    "&nbsp;\n",
    "..        ..          ..          ..         ..         ..        .. \n",
    "\n",
    "\n",
    "&nbsp;"
   ]
  },
  {
   "cell_type": "code",
   "execution_count": 34,
   "metadata": {},
   "outputs": [],
   "source": [
    "#Se lee el archivo y se almacenan los datos en un RDD\n",
    "rdd_data = sc.textFile('/home/jsarabia/Documents/IA/Data-exploration-url_svmlight/data/url_svmlight/Day75.svm')\n",
    "#rdd_data = sc.textFile('/home/jsarabia/Documents/IA/DayGeneral.svm')\n",
    "#rdd_data = sc.textFile('ros1/part-00000')"
   ]
  },
  {
   "cell_type": "code",
   "execution_count": 35,
   "metadata": {},
   "outputs": [
    {
     "data": {
      "text/plain": [
       "['+1 4:0.0373444 5:0.062069 6:0.0588235 11:0.142857 16:0.1 17:0.916974 19:0.209008 21:0.000416667 22:0.00041832 23:0.00041832 62:1 64:1 66:1 68:1 72:1 82:1 84:1 86:1 88:1 92:1 102:1 104:1 106:1 108:1 112:1 139:1 141:1 143:1 145:1 149:1 263:1 266:1 267:1 270:0.00041832 726:1 731:1 736:1 905:1 906:1 908:1 909:1 910:1 912:1 913:1 914:1 915:1 917:1 1629:1 2401:1 3521:1 3522:1 8197:1 8198:1 8199:1 8200:1 10728:1 155153:1 155154:1 155155:1 155156:1 155157:1 155158:1 155160:1 155161:1 155163:1 155164:1 155165:1 155174:1 155175:1 155176:1 155177:1 155178:1 155179:1 155180:1 155181:1 155182:1 155183:1 155184:1 155185:1 155186:1 155187:1 155188:1 155189:1 155190:1 155191:1 155192:1 155193:1 155194:1 155195:1 155196:1 155197:1 155198:1 155199:1 155200:1 155201:1 155202:1 155203:1 155204:1 155205:1 155206:1 155207:1 155208:1 155209:1 155210:1 155211:1 155212:1 155213:1 155214:1 503652:1 1597418:1 2573731:1']"
      ]
     },
     "execution_count": 35,
     "metadata": {},
     "output_type": "execute_result"
    }
   ],
   "source": [
    "rdd_data.take(1)"
   ]
  },
  {
   "cell_type": "code",
   "execution_count": 36,
   "metadata": {},
   "outputs": [
    {
     "name": "stdout",
     "output_type": "stream",
     "text": [
      "Instances: 20000\n"
     ]
    }
   ],
   "source": [
    "# Número total de instancias\n",
    "print('Instances:', rdd_data.count())"
   ]
  },
  {
   "cell_type": "markdown",
   "metadata": {},
   "source": [
    "## Se separan las instancias y se toma la primera posición que corresponde a la clase\n"
   ]
  },
  {
   "cell_type": "code",
   "execution_count": 37,
   "metadata": {},
   "outputs": [],
   "source": [
    "# se asigna a un nuevo RDD\n",
    "rdd_classes = rdd_data.map(lambda instance: instance.split(' ')[0]) # [0] Posición de la clase"
   ]
  },
  {
   "cell_type": "code",
   "execution_count": 38,
   "metadata": {},
   "outputs": [],
   "source": [
    "# Contar cuántas instancias hay de cada clase\n",
    "class_repetition = (rdd_classes\n",
    "    .flatMap(lambda row: row.split(\" \")) # Se separa cada fila del RDD\n",
    "    .map(lambda classes: (classes, 1))   # Se agrega un 1 para contar cada elemento\n",
    "    .reduceByKey(lambda a, b: a + b)     # Se suma el total de clases \n",
    "    .sortBy(lambda s:s[1], False)        # Se ordena de acuerdo al no. de clases totales\n",
    "    .collect())"
   ]
  },
  {
   "cell_type": "code",
   "execution_count": 39,
   "metadata": {},
   "outputs": [
    {
     "name": "stdout",
     "output_type": "stream",
     "text": [
      "Classes: 2\n"
     ]
    }
   ],
   "source": [
    "# Número total de clases\n",
    "print('Classes:', len(class_repetition))"
   ]
  },
  {
   "cell_type": "code",
   "execution_count": 40,
   "metadata": {},
   "outputs": [],
   "source": [
    "# Se crean dos listas: la lista \"xclass\" almacenará la clase, mientras que \"xtotals\" el número de \n",
    "# veces que esta clase se repita\n",
    "xclass = []\n",
    "xtotals = []"
   ]
  },
  {
   "cell_type": "markdown",
   "metadata": {},
   "source": [
    "## Muestras por clase"
   ]
  },
  {
   "cell_type": "code",
   "execution_count": 41,
   "metadata": {},
   "outputs": [
    {
     "name": "stdout",
     "output_type": "stream",
     "text": [
      "Clase \t Total\n",
      "-1 \t 14651\n",
      "+1 \t 5349\n"
     ]
    }
   ],
   "source": [
    "# Ciclo for que recorre los elementos de la lista \"class_repetition\", se llenan las listas \n",
    "# \"xclass\" y \"xtotals\" y, posteriormente, se almacenan en dos arreglos de numpy\n",
    "print('Clase \\t Total')\n",
    "for x in range(len(class_repetition)):\n",
    "    a = class_repetition[x]\n",
    "    xclass.append(str(a[0]))\n",
    "    xtotals.append(a[1])\n",
    "    print(a[0], '\\t', a[1])\n",
    "np_class = np.array(xclass)\n",
    "np_total = np.array(xtotals)\n",
    "    "
   ]
  },
  {
   "cell_type": "code",
   "execution_count": 42,
   "metadata": {},
   "outputs": [],
   "source": [
    "# Se crean dos RDD auxiliares\n",
    "rdd = sc.parallelize([])\n",
    "aux = sc.parallelize([])"
   ]
  },
  {
   "cell_type": "code",
   "execution_count": 43,
   "metadata": {},
   "outputs": [
    {
     "name": "stdout",
     "output_type": "stream",
     "text": [
      "Clase: -1 \tTotal: 14651 \tFaltantes: 0 \tIteraciones: 0\n",
      "Clase: +1 \tTotal: 5349 \tFaltantes: 9302 \tIteraciones: 17\n"
     ]
    }
   ],
   "source": [
    "# Se crean dos RDD auxiliares\n",
    "rdd = sc.parallelize([])\n",
    "aux = sc.parallelize([])\n",
    "\n",
    "for i in range(len(class_repetition)):\n",
    "    # Buscar la clase en el RDD inicial respecto al índice de la iteración\n",
    "    clas = rdd_data.filter(lambda s:s.split(' ')[0]==np_class[i])\n",
    "    # Calcular el número de muestras faltantes de la clase en cada iteración; \"np_total[0]\"\n",
    "    # tiene el valor más alto de instancias\n",
    "    missing_samples = np_total[0] - np_total[i]\n",
    "    # Bloque para generar las muestras aleatorias\n",
    "    blocks =  535\n",
    "    # Número de iteraciones por clase\n",
    "    iteration=missing_samples/blocks\n",
    "    print(\"Clase:\",np_class[i],\"\\tTotal:\",np_total[i],\"\\tFaltantes:\",missing_samples,\"\\tIteraciones:\", int(iteration))\n",
    "    if(iteration>0) and (i >0):\n",
    "        for j in range(int(iteration)):\n",
    "            #print(j+1)\n",
    "            #Extract the sample\n",
    "            extract=clas.takeSample(True,blocks,1)\n",
    "            #Convert to rdd\n",
    "            aux=sc.parallelize(extract)\n",
    "            #join the samples of each class\n",
    "            rdd=rdd.union(aux)\n",
    "    #Join the classes\n",
    "    rdd=rdd.union(clas)"
   ]
  },
  {
   "cell_type": "code",
   "execution_count": 44,
   "metadata": {},
   "outputs": [
    {
     "data": {
      "text/plain": [
       "29095"
      ]
     },
     "execution_count": 44,
     "metadata": {},
     "output_type": "execute_result"
    }
   ],
   "source": [
    "rdd.count()"
   ]
  },
  {
   "cell_type": "code",
   "execution_count": 143,
   "metadata": {},
   "outputs": [
    {
     "data": {
      "text/plain": [
       "16000"
      ]
     },
     "execution_count": 143,
     "metadata": {},
     "output_type": "execute_result"
    }
   ],
   "source": [
    "rdd_data.count()"
   ]
  },
  {
   "cell_type": "markdown",
   "metadata": {},
   "source": [
    "## Guardar el archivo con las clases balanceadas"
   ]
  },
  {
   "cell_type": "code",
   "execution_count": 144,
   "metadata": {},
   "outputs": [],
   "source": [
    "rdd.coalesce(1).saveAsTextFile('ros1')"
   ]
  },
  {
   "cell_type": "code",
   "execution_count": 45,
   "metadata": {},
   "outputs": [],
   "source": [
    "sc.stop()"
   ]
  },
  {
   "cell_type": "code",
   "execution_count": null,
   "metadata": {},
   "outputs": [],
   "source": []
  }
 ],
 "metadata": {
  "kernelspec": {
   "display_name": "Python 3.8 (XPython)",
   "language": "python",
   "name": "xpython"
  },
  "language_info": {
   "file_extension": ".py",
   "mimetype": "text/x-python",
   "name": "python",
   "version": "3.8.8"
  }
 },
 "nbformat": 4,
 "nbformat_minor": 4
}
