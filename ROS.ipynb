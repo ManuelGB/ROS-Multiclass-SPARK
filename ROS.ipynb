{
 "cells": [
  {
   "cell_type": "markdown",
   "metadata": {},
   "source": [
    "# ROS Multiclass"
   ]
  },
  {
   "cell_type": "markdown",
   "metadata": {},
   "source": [
    "### Import pyspark"
   ]
  },
  {
   "cell_type": "code",
   "execution_count": null,
   "metadata": {},
   "outputs": [],
   "source": [
    "from pyspark import SparkContext\n",
    "sc=SparkContext('local[3]','KDD')"
   ]
  },
  {
   "cell_type": "code",
   "execution_count": null,
   "metadata": {},
   "outputs": [],
   "source": [
    "import numpy as np"
   ]
  },
  {
   "cell_type": "markdown",
   "metadata": {},
   "source": [
    "## Load data\n",
    "\n",
    "Format of the data \n",
    "\n",
    "\n",
    "&nbsp; \n",
    "class column1 column2 column3 column4 ...... column_n \n",
    "\n",
    "\n",
    "&nbsp;\n",
    "class column1 column2 column3 column4 ...... column_n \n",
    "\n",
    "\n",
    "&nbsp;\n",
    "..       ..         ..        ..         ..          ..          .. \n",
    " \n",
    "\n",
    "&nbsp;\n",
    "..        ..          ..          ..         ..         ..        .. \n",
    "\n",
    "\n",
    "&nbsp;"
   ]
  },
  {
   "cell_type": "code",
   "execution_count": 3,
   "metadata": {},
   "outputs": [],
   "source": [
    "data=sc.textFile('/home/manuel/Escritorio/ROS y SMOTE SPARK Multiclase/Dataset_KDD23clases.txt')"
   ]
  },
  {
   "cell_type": "code",
   "execution_count": 4,
   "metadata": {},
   "outputs": [
    {
     "data": {
      "text/plain": [
       "[u'4.0 1:0.13841313651560333 2:4.107214733400692E-4 3:0.002053607366700346 4:0.0016428858933602768 5:0.09734098918159641 6:0.6325110689437066 12:4.107214733400692E-4 15:4.107214733400692E-4 17:4.107214733400692E-4 18:4.107214733400692E-4 19:4.107214733400692E-4 23:4.107214733400692E-4 24:4.107214733400692E-4 29:4.107214733400692E-4 32:0.10473397570171765 33:0.01930390924698325 34:7.392986520121245E-5 35:8.214429466801383E-6 38:9.035872413481523E-5 39:1.3143087146882213E-4',\n",
       " u'4.0 1:0.18987261389181706 2:6.350254645211273E-4 3:0.0031751273226056365 4:0.002540101858084509 5:0.07112285202636626 6:0.5378665684493948 23:6.350254645211273E-4 24:6.350254645211273E-4 29:6.350254645211273E-4 32:0.16193149345288746 33:0.03048122229701411 34:1.2065483825901419E-4 35:1.2700509290422547E-5 38:1.39705602194648E-4 39:1.9685789400154946E-4']"
      ]
     },
     "execution_count": 4,
     "metadata": {},
     "output_type": "execute_result"
    }
   ],
   "source": [
    "data.take(2)"
   ]
  },
  {
   "cell_type": "code",
   "execution_count": 5,
   "metadata": {},
   "outputs": [
    {
     "data": {
      "text/plain": [
       "324102"
      ]
     },
     "execution_count": 5,
     "metadata": {},
     "output_type": "execute_result"
    }
   ],
   "source": [
    "data.count()"
   ]
  },
  {
   "cell_type": "code",
   "execution_count": 6,
   "metadata": {},
   "outputs": [],
   "source": [
    "#Separate the classes\n",
    "data2=data.map(lambda s:s.split(' ')[0])#[0] Position of the class"
   ]
  },
  {
   "cell_type": "code",
   "execution_count": 7,
   "metadata": {},
   "outputs": [],
   "source": [
    "#Count class matches\n",
    "class_repetition=data2.flatMap(lambda s: s.split(\" \")).map(lambda w: (w, 1)).reduceByKey(lambda a, b: a + b).sortBy(lambda s:s[1],False).collect()"
   ]
  },
  {
   "cell_type": "code",
   "execution_count": 8,
   "metadata": {},
   "outputs": [],
   "source": [
    "xclass=[]\n",
    "xtotals=[]"
   ]
  },
  {
   "cell_type": "markdown",
   "metadata": {},
   "source": [
    "## Samples of each class"
   ]
  },
  {
   "cell_type": "code",
   "execution_count": 9,
   "metadata": {},
   "outputs": [
    {
     "name": "stdout",
     "output_type": "stream",
     "text": [
      "14.0 278351\n",
      "2.0 15892\n",
      "20.0 12481\n",
      "11.0 10413\n",
      "13.0 2316\n",
      "22.0 2203\n",
      "17.0 1020\n",
      "12.0 979\n",
      "19.0 264\n",
      "3.0 53\n",
      "15.0 30\n",
      "5.0 21\n",
      "10.0 20\n",
      "1.0 12\n",
      "16.0 10\n",
      "7.0 9\n",
      "6.0 8\n",
      "0.0 7\n",
      "9.0 4\n",
      "8.0 3\n",
      "cuatro 2\n",
      "cinco 2\n",
      "4.0 2\n"
     ]
    }
   ],
   "source": [
    "for x in range(len(class_repetition)):\n",
    "    a=class_repetition[x]\n",
    "    xclass.append(str(a[0]))\n",
    "    xtotals.append(a[1])\n",
    "    print a[0],a[1]\n",
    "np_class=np.array(xclass)\n",
    "np_total=np.array(xtotals)\n",
    "    "
   ]
  },
  {
   "cell_type": "code",
   "execution_count": 10,
   "metadata": {},
   "outputs": [],
   "source": [
    "rdd=sc.parallelize([])\n",
    "aux=sc.parallelize([])"
   ]
  },
  {
   "cell_type": "code",
   "execution_count": 11,
   "metadata": {},
   "outputs": [
    {
     "name": "stdout",
     "output_type": "stream",
     "text": [
      "('Class:', '14.0', 'Totals:', 278351, 'Missing', 0, 'Iterations', 0)\n",
      "('Class:', '2.0', 'Totals:', 15892, 'Missing', 262459, 'Iterations', 5)\n",
      "('Class:', '20.0', 'Totals:', 12481, 'Missing', 265870, 'Iterations', 5)\n",
      "('Class:', '11.0', 'Totals:', 10413, 'Missing', 267938, 'Iterations', 5)\n",
      "('Class:', '13.0', 'Totals:', 2316, 'Missing', 276035, 'Iterations', 5)\n",
      "('Class:', '22.0', 'Totals:', 2203, 'Missing', 276148, 'Iterations', 5)\n",
      "('Class:', '17.0', 'Totals:', 1020, 'Missing', 277331, 'Iterations', 5)\n",
      "('Class:', '12.0', 'Totals:', 979, 'Missing', 277372, 'Iterations', 5)\n",
      "('Class:', '19.0', 'Totals:', 264, 'Missing', 278087, 'Iterations', 5)\n",
      "('Class:', '3.0', 'Totals:', 53, 'Missing', 278298, 'Iterations', 5)\n",
      "('Class:', '15.0', 'Totals:', 30, 'Missing', 278321, 'Iterations', 5)\n",
      "('Class:', '5.0', 'Totals:', 21, 'Missing', 278330, 'Iterations', 5)\n",
      "('Class:', '10.0', 'Totals:', 20, 'Missing', 278331, 'Iterations', 5)\n",
      "('Class:', '1.0', 'Totals:', 12, 'Missing', 278339, 'Iterations', 5)\n",
      "('Class:', '16.0', 'Totals:', 10, 'Missing', 278341, 'Iterations', 5)\n",
      "('Class:', '7.0', 'Totals:', 9, 'Missing', 278342, 'Iterations', 5)\n",
      "('Class:', '6.0', 'Totals:', 8, 'Missing', 278343, 'Iterations', 5)\n",
      "('Class:', '0.0', 'Totals:', 7, 'Missing', 278344, 'Iterations', 5)\n",
      "('Class:', '9.0', 'Totals:', 4, 'Missing', 278347, 'Iterations', 5)\n",
      "('Class:', '8.0', 'Totals:', 3, 'Missing', 278348, 'Iterations', 5)\n",
      "('Class:', 'cuatro', 'Totals:', 2, 'Missing', 278349, 'Iterations', 5)\n",
      "('Class:', 'cinco', 'Totals:', 2, 'Missing', 278349, 'Iterations', 5)\n",
      "('Class:', '4.0', 'Totals:', 2, 'Missing', 278349, 'Iterations', 5)\n"
     ]
    }
   ],
   "source": [
    "for i in range(len(class_repetition)):\n",
    "    #Look for the class\n",
    "    clas=data.filter(lambda s:s.split(' ')[0]==np_class[i])\n",
    "    #Missing samples\n",
    "    missing_samples=np_total[0]-np_total[i]\n",
    "    #Block size to generate the random samples\n",
    "    blocks=50000\n",
    "    #Number of iterations per class\n",
    "    iteration=missing_samples/blocks\n",
    "    print(\"Class:\",np_class[i],\"Totals:\",np_total[i],\"Missing\",missing_samples,\"Iterations\",iteration)\n",
    "    if((iteration>0) and (i >0)):\n",
    "        for j in range(iteration):\n",
    "            #print(j+1)\n",
    "            #Extract the sample\n",
    "            extract=clas.takeSample(True,blocks,1)\n",
    "            #Convert to rdd\n",
    "            aux=sc.parallelize(extract)\n",
    "            #join the samples of each class\n",
    "            rdd=rdd.union(aux)\n",
    "    #Join the classes\n",
    "    rdd=rdd.union(clas)"
   ]
  },
  {
   "cell_type": "code",
   "execution_count": 12,
   "metadata": {},
   "outputs": [
    {
     "data": {
      "text/plain": [
       "5824102"
      ]
     },
     "execution_count": 12,
     "metadata": {},
     "output_type": "execute_result"
    }
   ],
   "source": [
    "rdd.count()"
   ]
  },
  {
   "cell_type": "code",
   "execution_count": 13,
   "metadata": {},
   "outputs": [
    {
     "data": {
      "text/plain": [
       "324102"
      ]
     },
     "execution_count": 13,
     "metadata": {},
     "output_type": "execute_result"
    }
   ],
   "source": [
    "data.count()"
   ]
  },
  {
   "cell_type": "markdown",
   "metadata": {},
   "source": [
    "## Save the new data"
   ]
  },
  {
   "cell_type": "code",
   "execution_count": null,
   "metadata": {},
   "outputs": [],
   "source": [
    "rdd.coalesce(1).saveAsTextFile('/home/manuel/Escritorio/ros.dat')"
   ]
  }
 ],
 "metadata": {
  "kernelspec": {
   "display_name": "Python 2",
   "language": "python",
   "name": "python2"
  },
  "language_info": {
   "codemirror_mode": {
    "name": "ipython",
    "version": 2
   },
   "file_extension": ".py",
   "mimetype": "text/x-python",
   "name": "python",
   "nbconvert_exporter": "python",
   "pygments_lexer": "ipython2",
   "version": "2.7.13"
  }
 },
 "nbformat": 4,
 "nbformat_minor": 2
}
